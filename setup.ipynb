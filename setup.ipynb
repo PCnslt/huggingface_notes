{
 "cells": [
  {
   "cell_type": "code",
   "execution_count": null,
   "id": "d0ea4234",
   "metadata": {},
   "outputs": [],
   "source": [
    "# !pip install transformers==X.X.X jupyter ipykernel"
   ]
  },
  {
   "cell_type": "code",
   "execution_count": null,
   "id": "66724d8c",
   "metadata": {},
   "outputs": [],
   "source": [
    "# !pip uninstall transformers -y   "
   ]
  },
  {
   "cell_type": "code",
   "execution_count": null,
   "id": "c862afb9",
   "metadata": {},
   "outputs": [],
   "source": [
    "import transformers"
   ]
  },
  {
   "cell_type": "code",
   "execution_count": null,
   "id": "de9f34a5",
   "metadata": {},
   "outputs": [],
   "source": [
    "transformers.__version__"
   ]
  },
  {
   "cell_type": "code",
   "execution_count": null,
   "id": "24d1f0c5",
   "metadata": {},
   "outputs": [],
   "source": [
    "from huggingface_hub import notebook_login"
   ]
  },
  {
   "cell_type": "code",
   "execution_count": null,
   "id": "d5d479e3",
   "metadata": {},
   "outputs": [],
   "source": [
    "notebook_login()"
   ]
  },
  {
   "cell_type": "code",
   "execution_count": null,
   "id": "43f88346",
   "metadata": {},
   "outputs": [],
   "source": [
    "# !pip install datasets"
   ]
  },
  {
   "cell_type": "code",
   "execution_count": null,
   "id": "5542b430",
   "metadata": {},
   "outputs": [],
   "source": [
    "from datasets import load_dataset"
   ]
  },
  {
   "cell_type": "code",
   "execution_count": null,
   "id": "72913a90",
   "metadata": {},
   "outputs": [],
   "source": [
    "reviews = load_dataset(\"rotten_tomatoes\")"
   ]
  }
 ],
 "metadata": {
  "kernelspec": {
   "display_name": "huggingface",
   "language": "python",
   "name": "python3"
  },
  "language_info": {
   "codemirror_mode": {
    "name": "ipython",
    "version": 3
   },
   "file_extension": ".py",
   "mimetype": "text/x-python",
   "name": "python",
   "nbconvert_exporter": "python",
   "pygments_lexer": "ipython3",
   "version": "3.11.13"
  }
 },
 "nbformat": 4,
 "nbformat_minor": 5
}
